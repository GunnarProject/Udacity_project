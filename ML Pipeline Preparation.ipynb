{
 "cells": [
  {
   "cell_type": "markdown",
   "metadata": {},
   "source": [
    "# ML Pipeline Preparation\n",
    "Follow the instructions below to help you create your ML pipeline.\n",
    "### 1. Import libraries and load data from database.\n",
    "- Import Python libraries\n",
    "- Load dataset from database with [`read_sql_table`](https://pandas.pydata.org/pandas-docs/stable/generated/pandas.read_sql_table.html)\n",
    "- Define feature and target variables X and Y"
   ]
  },
  {
   "cell_type": "code",
   "execution_count": 43,
   "metadata": {},
   "outputs": [
    {
     "name": "stdout",
     "output_type": "stream",
     "text": [
      "[nltk_data] Downloading package stopwords to /root/nltk_data...\n",
      "[nltk_data]   Package stopwords is already up-to-date!\n",
      "[nltk_data] Downloading package wordnet to /root/nltk_data...\n",
      "[nltk_data]   Package wordnet is already up-to-date!\n"
     ]
    }
   ],
   "source": [
    "# import libraries\n",
    "import nltk\n",
    "import pandas as pd\n",
    "import pickle\n",
    "import re\n",
    "from sqlalchemy import create_engine\n",
    "\n",
    "nltk.download(['stopwords', 'wordnet'])\n",
    "from nltk.corpus import stopwords\n",
    "from nltk.stem.porter import PorterStemmer\n",
    "from nltk.stem.wordnet import WordNetLemmatizer\n",
    "\n",
    "from sklearn.pipeline import Pipeline\n",
    "from sklearn.feature_extraction.text import CountVectorizer, TfidfTransformer\n",
    "from sklearn.multioutput import MultiOutputClassifier\n",
    "from sklearn.model_selection import train_test_split\n",
    "from sklearn.ensemble import RandomForestClassifier\n",
    "from sklearn.metrics import classification_report"
   ]
  },
  {
   "cell_type": "code",
   "execution_count": 29,
   "metadata": {},
   "outputs": [],
   "source": [
    "# load data from database\n",
    "engine = create_engine('sqlite:///python_project.db')\n",
    "df = pd.read_sql_table('project', engine)\n",
    "y = df.drop(['message', 'id', 'original', 'genre'], axis=1)\n",
    "X = df['message']\n",
    "\n",
    "category_names = y.columns.tolist()"
   ]
  },
  {
   "cell_type": "markdown",
   "metadata": {},
   "source": [
    "### 2. Write a tokenization function to process your text data"
   ]
  },
  {
   "cell_type": "code",
   "execution_count": 5,
   "metadata": {},
   "outputs": [],
   "source": [
    "def tokenize(text):\n",
    "    \n",
    "    # Normalize text\n",
    "    text = re.sub(r\"[^a-zA-Z0-9]\", \" \", text.lower().strip())\n",
    "    \n",
    "    # Tokenize text\n",
    "    words = text.split()\n",
    "    \n",
    "    # Removing stopwords\n",
    "    words = [w for w in words if w not in stopwords.words(\"english\")]\n",
    "    \n",
    "    # Reducing words to their stems\n",
    "    words = [PorterStemmer().stem(w) for w in words]\n",
    "\n",
    "    # Reducing words to their root\n",
    "    words = [WordNetLemmatizer().lemmatize(w) for w in words]\n",
    "    \n",
    "    return words"
   ]
  },
  {
   "cell_type": "markdown",
   "metadata": {},
   "source": [
    "### 3. Build a machine learning pipeline\n",
    "This machine pipeline should take in the `message` column as input and output classification results on the other 36 categories in the dataset. You may find the [MultiOutputClassifier](http://scikit-learn.org/stable/modules/generated/sklearn.multioutput.MultiOutputClassifier.html) helpful for predicting multiple target variables."
   ]
  },
  {
   "cell_type": "code",
   "execution_count": 6,
   "metadata": {},
   "outputs": [],
   "source": [
    "pipeline = Pipeline([\n",
    "        ('vect', CountVectorizer(tokenizer=tokenize)),\n",
    "        ('tfidf', TfidfTransformer()),\n",
    "        ('moc', MultiOutputClassifier(RandomForestClassifier()))\n",
    "    ])"
   ]
  },
  {
   "cell_type": "markdown",
   "metadata": {},
   "source": [
    "### 4. Train pipeline\n",
    "- Split data into train and test sets\n",
    "- Train pipeline"
   ]
  },
  {
   "cell_type": "code",
   "execution_count": 7,
   "metadata": {},
   "outputs": [
    {
     "data": {
      "text/plain": [
       "Pipeline(memory=None,\n",
       "     steps=[('vect', CountVectorizer(analyzer='word', binary=False, decode_error='strict',\n",
       "        dtype=<class 'numpy.int64'>, encoding='utf-8', input='content',\n",
       "        lowercase=True, max_df=1.0, max_features=None, min_df=1,\n",
       "        ngram_range=(1, 1), preprocessor=None, stop_words=None,\n",
       "        strip...oob_score=False, random_state=None, verbose=0,\n",
       "            warm_start=False),\n",
       "           n_jobs=1))])"
      ]
     },
     "execution_count": 7,
     "metadata": {},
     "output_type": "execute_result"
    }
   ],
   "source": [
    "X_train, X_test, y_train, y_test = train_test_split(X, y)\n",
    "\n",
    "pipeline.fit(X_train, y_train)"
   ]
  },
  {
   "cell_type": "markdown",
   "metadata": {},
   "source": [
    "### 5. Test your model\n",
    "Report the f1 score, precision and recall for each output category of the dataset. You can do this by iterating through the columns and calling sklearn's `classification_report` on each."
   ]
  },
  {
   "cell_type": "code",
   "execution_count": 24,
   "metadata": {},
   "outputs": [],
   "source": [
    "y_pred = pipeline.predict(X_test)"
   ]
  },
  {
   "cell_type": "code",
   "execution_count": 42,
   "metadata": {},
   "outputs": [
    {
     "name": "stdout",
     "output_type": "stream",
     "text": [
      " === related === \n",
      "             precision    recall  f1-score   support\n",
      "\n",
      "          0       0.65      0.48      0.56      1482\n",
      "          1       0.86      0.92      0.89      5034\n",
      "          2       0.35      0.47      0.40        38\n",
      "\n",
      "avg / total       0.81      0.82      0.81      6554\n",
      "\n",
      " === request === \n",
      "             precision    recall  f1-score   support\n",
      "\n",
      "          0       0.89      0.98      0.93      5431\n",
      "          1       0.81      0.44      0.57      1123\n",
      "\n",
      "avg / total       0.88      0.89      0.87      6554\n",
      "\n",
      " === offer === \n",
      "             precision    recall  f1-score   support\n",
      "\n",
      "          0       1.00      1.00      1.00      6529\n",
      "          1       0.00      0.00      0.00        25\n",
      "\n",
      "avg / total       0.99      1.00      0.99      6554\n",
      "\n",
      " === aid_related === \n",
      "             precision    recall  f1-score   support\n",
      "\n",
      "          0       0.73      0.86      0.79      3719\n",
      "          1       0.76      0.59      0.66      2835\n",
      "\n",
      "avg / total       0.75      0.74      0.74      6554\n",
      "\n",
      " === medical_help === \n",
      "             precision    recall  f1-score   support\n",
      "\n",
      "          0       0.92      0.99      0.96      5979\n",
      "          1       0.59      0.09      0.16       575\n",
      "\n",
      "avg / total       0.89      0.91      0.89      6554\n",
      "\n",
      " === medical_products === \n",
      "             precision    recall  f1-score   support\n",
      "\n",
      "          0       0.95      1.00      0.98      6218\n",
      "          1       0.86      0.13      0.22       336\n",
      "\n",
      "avg / total       0.95      0.95      0.94      6554\n",
      "\n",
      " === search_and_rescue === \n",
      "             precision    recall  f1-score   support\n",
      "\n",
      "          0       0.97      1.00      0.99      6377\n",
      "          1       0.62      0.07      0.13       177\n",
      "\n",
      "avg / total       0.97      0.97      0.96      6554\n",
      "\n",
      " === security === \n",
      "             precision    recall  f1-score   support\n",
      "\n",
      "          0       0.98      1.00      0.99      6422\n",
      "          1       0.00      0.00      0.00       132\n",
      "\n",
      "avg / total       0.96      0.98      0.97      6554\n",
      "\n",
      " === military === \n",
      "             precision    recall  f1-score   support\n",
      "\n",
      "          0       0.97      1.00      0.98      6329\n",
      "          1       0.68      0.07      0.12       225\n",
      "\n",
      "avg / total       0.96      0.97      0.95      6554\n",
      "\n",
      " === child_alone === \n",
      "             precision    recall  f1-score   support\n",
      "\n",
      "          0       1.00      1.00      1.00      6554\n",
      "\n",
      "avg / total       1.00      1.00      1.00      6554\n",
      "\n",
      " === water === \n",
      "             precision    recall  f1-score   support\n",
      "\n",
      "          0       0.95      1.00      0.97      6104\n",
      "          1       0.88      0.22      0.36       450\n",
      "\n",
      "avg / total       0.94      0.94      0.93      6554\n",
      "\n",
      " === food === \n",
      "             precision    recall  f1-score   support\n",
      "\n",
      "          0       0.95      0.98      0.96      5817\n",
      "          1       0.82      0.55      0.66       737\n",
      "\n",
      "avg / total       0.93      0.94      0.93      6554\n",
      "\n",
      " === shelter === \n",
      "             precision    recall  f1-score   support\n",
      "\n",
      "          0       0.94      0.99      0.96      5968\n",
      "          1       0.82      0.30      0.44       586\n",
      "\n",
      "avg / total       0.93      0.93      0.92      6554\n",
      "\n",
      " === clothing === \n",
      "             precision    recall  f1-score   support\n",
      "\n",
      "          0       0.99      1.00      0.99      6447\n",
      "          1       0.94      0.15      0.26       107\n",
      "\n",
      "avg / total       0.99      0.99      0.98      6554\n",
      "\n",
      " === money === \n",
      "             precision    recall  f1-score   support\n",
      "\n",
      "          0       0.98      1.00      0.99      6400\n",
      "          1       0.70      0.05      0.09       154\n",
      "\n",
      "avg / total       0.97      0.98      0.97      6554\n",
      "\n",
      " === missing_people === \n",
      "             precision    recall  f1-score   support\n",
      "\n",
      "          0       0.99      1.00      0.99      6487\n",
      "          1       0.00      0.00      0.00        67\n",
      "\n",
      "avg / total       0.98      0.99      0.98      6554\n",
      "\n",
      " === refugees === \n",
      "             precision    recall  f1-score   support\n",
      "\n",
      "          0       0.97      1.00      0.98      6321\n",
      "          1       0.71      0.09      0.17       233\n",
      "\n",
      "avg / total       0.96      0.97      0.95      6554\n",
      "\n",
      " === death === \n",
      "             precision    recall  f1-score   support\n",
      "\n",
      "          0       0.96      1.00      0.98      6240\n",
      "          1       0.73      0.10      0.17       314\n",
      "\n",
      "avg / total       0.95      0.95      0.94      6554\n",
      "\n",
      " === other_aid === \n",
      "             precision    recall  f1-score   support\n",
      "\n",
      "          0       0.87      0.99      0.92      5638\n",
      "          1       0.49      0.06      0.10       916\n",
      "\n",
      "avg / total       0.81      0.86      0.81      6554\n",
      "\n",
      " === infrastructure_related === \n",
      "             precision    recall  f1-score   support\n",
      "\n",
      "          0       0.93      1.00      0.96      6113\n",
      "          1       0.21      0.01      0.01       441\n",
      "\n",
      "avg / total       0.88      0.93      0.90      6554\n",
      "\n",
      " === transport === \n",
      "             precision    recall  f1-score   support\n",
      "\n",
      "          0       0.96      1.00      0.98      6248\n",
      "          1       0.69      0.08      0.14       306\n",
      "\n",
      "avg / total       0.94      0.96      0.94      6554\n",
      "\n",
      " === buildings === \n",
      "             precision    recall  f1-score   support\n",
      "\n",
      "          0       0.96      1.00      0.98      6235\n",
      "          1       0.70      0.10      0.18       319\n",
      "\n",
      "avg / total       0.94      0.95      0.94      6554\n",
      "\n",
      " === electricity === \n",
      "             precision    recall  f1-score   support\n",
      "\n",
      "          0       0.98      1.00      0.99      6411\n",
      "          1       0.83      0.03      0.07       143\n",
      "\n",
      "avg / total       0.98      0.98      0.97      6554\n",
      "\n",
      " === tools === \n",
      "             precision    recall  f1-score   support\n",
      "\n",
      "          0       0.99      1.00      1.00      6512\n",
      "          1       0.00      0.00      0.00        42\n",
      "\n",
      "avg / total       0.99      0.99      0.99      6554\n",
      "\n",
      " === hospitals === \n",
      "             precision    recall  f1-score   support\n",
      "\n",
      "          0       0.99      1.00      0.99      6473\n",
      "          1       0.00      0.00      0.00        81\n",
      "\n",
      "avg / total       0.98      0.99      0.98      6554\n",
      "\n",
      " === shops === \n",
      "             precision    recall  f1-score   support\n",
      "\n",
      "          0       1.00      1.00      1.00      6524\n",
      "          1       0.00      0.00      0.00        30\n",
      "\n",
      "avg / total       0.99      1.00      0.99      6554\n",
      "\n",
      " === aid_centers === \n",
      "             precision    recall  f1-score   support\n",
      "\n",
      "          0       0.99      1.00      0.99      6468\n",
      "          1       0.00      0.00      0.00        86\n",
      "\n",
      "avg / total       0.97      0.99      0.98      6554\n",
      "\n",
      " === other_infrastructure === \n",
      "             precision    recall  f1-score   support\n",
      "\n",
      "          0       0.96      1.00      0.98      6263\n",
      "          1       0.00      0.00      0.00       291\n",
      "\n",
      "avg / total       0.91      0.96      0.93      6554\n",
      "\n",
      " === weather_related === \n",
      "             precision    recall  f1-score   support\n",
      "\n",
      "          0       0.86      0.95      0.90      4691\n",
      "          1       0.83      0.62      0.71      1863\n",
      "\n",
      "avg / total       0.85      0.86      0.85      6554\n",
      "\n",
      " === floods === \n",
      "             precision    recall  f1-score   support\n",
      "\n",
      "          0       0.94      1.00      0.97      5992\n",
      "          1       0.86      0.29      0.44       562\n",
      "\n",
      "avg / total       0.93      0.94      0.92      6554\n",
      "\n",
      " === storm === \n",
      "             precision    recall  f1-score   support\n",
      "\n",
      "          0       0.94      0.99      0.96      5945\n",
      "          1       0.72      0.33      0.46       609\n",
      "\n",
      "avg / total       0.92      0.93      0.91      6554\n",
      "\n",
      " === fire === \n",
      "             precision    recall  f1-score   support\n",
      "\n",
      "          0       0.99      1.00      1.00      6486\n",
      "          1       1.00      0.04      0.08        68\n",
      "\n",
      "avg / total       0.99      0.99      0.99      6554\n",
      "\n",
      " === earthquake === \n",
      "             precision    recall  f1-score   support\n",
      "\n",
      "          0       0.98      0.99      0.98      5953\n",
      "          1       0.89      0.77      0.82       601\n",
      "\n",
      "avg / total       0.97      0.97      0.97      6554\n",
      "\n",
      " === cold === \n",
      "             precision    recall  f1-score   support\n",
      "\n",
      "          0       0.98      1.00      0.99      6402\n",
      "          1       0.85      0.07      0.13       152\n",
      "\n",
      "avg / total       0.98      0.98      0.97      6554\n",
      "\n",
      " === other_weather === \n",
      "             precision    recall  f1-score   support\n",
      "\n",
      "          0       0.95      1.00      0.97      6187\n",
      "          1       0.65      0.04      0.08       367\n",
      "\n",
      "avg / total       0.93      0.95      0.92      6554\n",
      "\n",
      " === direct_report === \n",
      "             precision    recall  f1-score   support\n",
      "\n",
      "          0       0.86      0.97      0.91      5288\n",
      "          1       0.74      0.33      0.46      1266\n",
      "\n",
      "avg / total       0.83      0.85      0.82      6554\n",
      "\n"
     ]
    },
    {
     "name": "stderr",
     "output_type": "stream",
     "text": [
      "/opt/conda/lib/python3.6/site-packages/sklearn/metrics/classification.py:1135: UndefinedMetricWarning: Precision and F-score are ill-defined and being set to 0.0 in labels with no predicted samples.\n",
      "  'precision', 'predicted', average, warn_for)\n"
     ]
    }
   ],
   "source": [
    "for i, name in enumerate(category_names):\n",
    "    print(f\" === {name} === \")\n",
    "    print(classification_report(y_test[name], y_pred[:,i]))"
   ]
  },
  {
   "cell_type": "markdown",
   "metadata": {},
   "source": [
    "### 6. Improve your model\n",
    "Use grid search to find better parameters. "
   ]
  },
  {
   "cell_type": "code",
   "execution_count": null,
   "metadata": {},
   "outputs": [],
   "source": [
    "parameters = \n",
    "\n",
    "cv = "
   ]
  },
  {
   "cell_type": "markdown",
   "metadata": {},
   "source": [
    "### 7. Test your model\n",
    "Show the accuracy, precision, and recall of the tuned model.  \n",
    "\n",
    "Since this project focuses on code quality, process, and  pipelines, there is no minimum performance metric needed to pass. However, make sure to fine tune your models for accuracy, precision and recall to make your project stand out - especially for your portfolio!"
   ]
  },
  {
   "cell_type": "code",
   "execution_count": null,
   "metadata": {},
   "outputs": [],
   "source": []
  },
  {
   "cell_type": "markdown",
   "metadata": {},
   "source": [
    "### 8. Try improving your model further. Here are a few ideas:\n",
    "* try other machine learning algorithms\n",
    "* add other features besides the TF-IDF"
   ]
  },
  {
   "cell_type": "code",
   "execution_count": null,
   "metadata": {},
   "outputs": [],
   "source": []
  },
  {
   "cell_type": "markdown",
   "metadata": {},
   "source": [
    "### 9. Export your model as a pickle file"
   ]
  },
  {
   "cell_type": "code",
   "execution_count": 44,
   "metadata": {},
   "outputs": [],
   "source": [
    "with open('nlp_pipeline.pkl', 'wb') as file:\n",
    "    pickle.dump(pipeline, file)"
   ]
  },
  {
   "cell_type": "markdown",
   "metadata": {},
   "source": [
    "### 10. Use this notebook to complete `train.py`\n",
    "Use the template file attached in the Resources folder to write a script that runs the steps above to create a database and export a model based on a new dataset specified by the user."
   ]
  },
  {
   "cell_type": "code",
   "execution_count": null,
   "metadata": {},
   "outputs": [],
   "source": []
  }
 ],
 "metadata": {
  "kernelspec": {
   "display_name": "Python 3",
   "language": "python",
   "name": "python3"
  },
  "language_info": {
   "codemirror_mode": {
    "name": "ipython",
    "version": 3
   },
   "file_extension": ".py",
   "mimetype": "text/x-python",
   "name": "python",
   "nbconvert_exporter": "python",
   "pygments_lexer": "ipython3",
   "version": "3.6.3"
  }
 },
 "nbformat": 4,
 "nbformat_minor": 2
}
